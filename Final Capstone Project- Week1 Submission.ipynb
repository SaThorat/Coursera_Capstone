{
 "cells": [
  {
   "cell_type": "markdown",
   "metadata": {
    "colab_type": "text",
    "id": "TKc70lGav_zY"
   },
   "source": [
    "# Final Capstone Project — The Battle of Neighbourhoods"
   ]
  },
  {
   "cell_type": "markdown",
   "metadata": {
    "colab_type": "text",
    "id": "dlJiXemYv_zc"
   },
   "source": [
    "### Background \n",
    "<p> India is the second most populated country in the world with nearly a fifth of the world's population. India is one of biggest country in the world with total geo-graphical area of 3,287,240 sq.km. The country has very diverse culture which changes across the geogrphical areas. \n",
    "    <p> Quality and variety of food being served in the Indian restaurants is my area of interest. Many people travel across the country for various reasons like tourism, jobs, business, family etc. After visiting a new place foody people always want to taste the best cuisines of every part of the city which lies in their budget. Analysing best restaurants of different cities is goal of this project. \n",
    "    <p>Zomato is an Indian multinational restaurant aggregator and food delivery company founded by Pankaj Chaddah and Deepinder Goyal in 2008. Zomato provides information, menus and user-reviews of restaurants as well as food delivery options from partner restaurants in many cities. As of 2019, the service is available in 24 countries and in more than 10,000 cities. [Source : Wikipedia]\n",
    "    <p>Zomato restaurant data across various cities from the globe is available on Kaggle. "
   ]
  },
  {
   "cell_type": "markdown",
   "metadata": {
    "colab_type": "text",
    "id": "CsGNuYelv_zd"
   },
   "source": [
    " ### Problem Statement and Questions to be Answered \n",
    "- What are top 5 locations in India for Foody people ? \n",
    "- Which cities in India have large number of Chinese Restaurant Market? \n",
    "- What are top 5 locations in India for Chinese Cuisine ?\n",
    "- What kind of a food is more popular in India.\n",
    "- Which cities are having less number of restaurants \n",
    "- Which cities have similar food culture. \n",
    "- Which places to visit for good Vegeterian food. \n",
    "- Which places to visit for good Non-Vegeterian food. "
   ]
  },
  {
   "cell_type": "markdown",
   "metadata": {
    "colab_type": "text",
    "id": "QD48llT0v_ze"
   },
   "source": [
    "### Dataset Description \n",
    "For this project we are going to use following datasets :\n",
    "<ul>\n",
    "<li> Zomato kaggle dataset that contains list of Indian cities, Localities, Resturant names, Ratings.\n",
    "    <ul>\n",
    "        <li>Data source : <a href=\"https://www.kaggle.com/shrutimehta/zomato-restaurants-data\">Zomato kaggel dataset</a>\n",
    " <li> Description : This data set contains the required information. And we will use this data set to explore various cities of India.\n",
    "     </ul>\n",
    "<li> Foursquare Places API.\n",
    "        <ul>\n",
    "            <li>Data source : <a href=\"https://developer.foursquare.com/\"> Fousquare API </a>\n",
    "        <li> Description : The Foursquare Places API provides location based experiences with diverse information about venues, users, photos, and check-ins. The API supports real time access to places, Snap-to-Place that assigns users to specific locations, and Geo-tag.\n",
    "    "
   ]
  },
  {
   "cell_type": "code",
   "execution_count": null,
   "metadata": {},
   "outputs": [],
   "source": []
  }
 ],
 "metadata": {
  "colab": {
   "name": "Capstone Project — The Battle of Neighbourhoods.ipynb",
   "provenance": []
  },
  "kernelspec": {
   "display_name": "Python 3",
   "language": "python",
   "name": "python3"
  },
  "language_info": {
   "codemirror_mode": {
    "name": "ipython",
    "version": 3
   },
   "file_extension": ".py",
   "mimetype": "text/x-python",
   "name": "python",
   "nbconvert_exporter": "python",
   "pygments_lexer": "ipython3",
   "version": "3.8.5"
  }
 },
 "nbformat": 4,
 "nbformat_minor": 1
}
